{
 "cells": [
  {
   "cell_type": "code",
   "execution_count": 11,
   "id": "ddac912f-e6e9-474c-b8f1-44ffcf152d80",
   "metadata": {},
   "outputs": [
    {
     "name": "stdout",
     "output_type": "stream",
     "text": [
      "(100000, 23)\n"
     ]
    },
    {
     "data": {
      "text/html": [
       "<div>\n",
       "<style scoped>\n",
       "    .dataframe tbody tr th:only-of-type {\n",
       "        vertical-align: middle;\n",
       "    }\n",
       "\n",
       "    .dataframe tbody tr th {\n",
       "        vertical-align: top;\n",
       "    }\n",
       "\n",
       "    .dataframe thead th {\n",
       "        text-align: right;\n",
       "    }\n",
       "</style>\n",
       "<table border=\"1\" class=\"dataframe\">\n",
       "  <thead>\n",
       "    <tr style=\"text-align: right;\">\n",
       "      <th></th>\n",
       "      <th>timestamp</th>\n",
       "      <th>user_id</th>\n",
       "      <th>session_id</th>\n",
       "      <th>ip_address</th>\n",
       "      <th>device_os</th>\n",
       "      <th>device_os_version</th>\n",
       "      <th>device_model</th>\n",
       "      <th>screen_resolution</th>\n",
       "      <th>location_country</th>\n",
       "      <th>location_city</th>\n",
       "      <th>...</th>\n",
       "      <th>memory_usage_mb</th>\n",
       "      <th>event_type</th>\n",
       "      <th>event_target</th>\n",
       "      <th>event_value</th>\n",
       "      <th>app_version</th>\n",
       "      <th>session_duration_sec</th>\n",
       "      <th>is_subscribed</th>\n",
       "      <th>user_age</th>\n",
       "      <th>phone_number</th>\n",
       "      <th>push_enabled</th>\n",
       "    </tr>\n",
       "  </thead>\n",
       "  <tbody>\n",
       "    <tr>\n",
       "      <th>0</th>\n",
       "      <td>2025-01-13T23:12:43</td>\n",
       "      <td>13457</td>\n",
       "      <td>S-852694</td>\n",
       "      <td>181.246.29.95</td>\n",
       "      <td>Android</td>\n",
       "      <td>9.9</td>\n",
       "      <td>OnePlus 9</td>\n",
       "      <td>1080x1920</td>\n",
       "      <td>Senegal</td>\n",
       "      <td>South Luiston</td>\n",
       "      <td>...</td>\n",
       "      <td>3687</td>\n",
       "      <td>double_tap</td>\n",
       "      <td>profile_image</td>\n",
       "      <td>5</td>\n",
       "      <td>2.6.8</td>\n",
       "      <td>3311</td>\n",
       "      <td>True</td>\n",
       "      <td>51</td>\n",
       "      <td>001-423-901-2346x818</td>\n",
       "      <td>False</td>\n",
       "    </tr>\n",
       "    <tr>\n",
       "      <th>1</th>\n",
       "      <td>2024-12-24T22:57:29</td>\n",
       "      <td>95977</td>\n",
       "      <td>S-766538</td>\n",
       "      <td>59.155.205.42</td>\n",
       "      <td>Android</td>\n",
       "      <td>7.9</td>\n",
       "      <td>Samsung Galaxy S22</td>\n",
       "      <td>1080x1920</td>\n",
       "      <td>Greenland</td>\n",
       "      <td>Lake Brandonton</td>\n",
       "      <td>...</td>\n",
       "      <td>3521</td>\n",
       "      <td>pinch</td>\n",
       "      <td>search_bar</td>\n",
       "      <td>6</td>\n",
       "      <td>3.3.6</td>\n",
       "      <td>3283</td>\n",
       "      <td>False</td>\n",
       "      <td>40</td>\n",
       "      <td>(437)544-4735</td>\n",
       "      <td>False</td>\n",
       "    </tr>\n",
       "    <tr>\n",
       "      <th>2</th>\n",
       "      <td>2024-12-22T09:00:26</td>\n",
       "      <td>52758</td>\n",
       "      <td>S-228244</td>\n",
       "      <td>183.205.124.1</td>\n",
       "      <td>iOS</td>\n",
       "      <td>15.1</td>\n",
       "      <td>iPhone 13</td>\n",
       "      <td>1080x1920</td>\n",
       "      <td>Falkland Islands (Malvinas)</td>\n",
       "      <td>Julieside</td>\n",
       "      <td>...</td>\n",
       "      <td>639</td>\n",
       "      <td>zoom</td>\n",
       "      <td>menu_icon</td>\n",
       "      <td>6</td>\n",
       "      <td>5.4.5</td>\n",
       "      <td>2870</td>\n",
       "      <td>True</td>\n",
       "      <td>73</td>\n",
       "      <td>001-815-298-0574x8189</td>\n",
       "      <td>True</td>\n",
       "    </tr>\n",
       "    <tr>\n",
       "      <th>3</th>\n",
       "      <td>2025-01-07T02:53:07</td>\n",
       "      <td>53777</td>\n",
       "      <td>S-633216</td>\n",
       "      <td>179.124.111.38</td>\n",
       "      <td>iOS</td>\n",
       "      <td>16.1</td>\n",
       "      <td>iPhone 14 Pro</td>\n",
       "      <td>720x1280</td>\n",
       "      <td>Comoros</td>\n",
       "      <td>North Steven</td>\n",
       "      <td>...</td>\n",
       "      <td>119</td>\n",
       "      <td>long_press</td>\n",
       "      <td>checkout_button</td>\n",
       "      <td>9</td>\n",
       "      <td>4.7.1</td>\n",
       "      <td>332</td>\n",
       "      <td>True</td>\n",
       "      <td>47</td>\n",
       "      <td>(252)814-8186</td>\n",
       "      <td>False</td>\n",
       "    </tr>\n",
       "    <tr>\n",
       "      <th>4</th>\n",
       "      <td>2024-12-22T15:58:18</td>\n",
       "      <td>6302</td>\n",
       "      <td>S-508537</td>\n",
       "      <td>198.184.172.85</td>\n",
       "      <td>Android</td>\n",
       "      <td>7.6</td>\n",
       "      <td>Motorola Edge</td>\n",
       "      <td>1080x1920</td>\n",
       "      <td>Mayotte</td>\n",
       "      <td>Ernestport</td>\n",
       "      <td>...</td>\n",
       "      <td>1789</td>\n",
       "      <td>view</td>\n",
       "      <td>settings_button</td>\n",
       "      <td>7</td>\n",
       "      <td>2.0.8</td>\n",
       "      <td>1694</td>\n",
       "      <td>True</td>\n",
       "      <td>32</td>\n",
       "      <td>+1-778-241-8813</td>\n",
       "      <td>False</td>\n",
       "    </tr>\n",
       "  </tbody>\n",
       "</table>\n",
       "<p>5 rows × 23 columns</p>\n",
       "</div>"
      ],
      "text/plain": [
       "             timestamp user_id session_id      ip_address device_os  \\\n",
       "0  2025-01-13T23:12:43   13457   S-852694   181.246.29.95   Android   \n",
       "1  2024-12-24T22:57:29   95977   S-766538   59.155.205.42   Android   \n",
       "2  2024-12-22T09:00:26   52758   S-228244   183.205.124.1       iOS   \n",
       "3  2025-01-07T02:53:07   53777   S-633216  179.124.111.38       iOS   \n",
       "4  2024-12-22T15:58:18    6302   S-508537  198.184.172.85   Android   \n",
       "\n",
       "  device_os_version        device_model screen_resolution  \\\n",
       "0               9.9           OnePlus 9         1080x1920   \n",
       "1               7.9  Samsung Galaxy S22         1080x1920   \n",
       "2              15.1           iPhone 13         1080x1920   \n",
       "3              16.1       iPhone 14 Pro          720x1280   \n",
       "4               7.6       Motorola Edge         1080x1920   \n",
       "\n",
       "              location_country    location_city  ... memory_usage_mb  \\\n",
       "0                      Senegal    South Luiston  ...            3687   \n",
       "1                    Greenland  Lake Brandonton  ...            3521   \n",
       "2  Falkland Islands (Malvinas)        Julieside  ...             639   \n",
       "3                      Comoros     North Steven  ...             119   \n",
       "4                      Mayotte       Ernestport  ...            1789   \n",
       "\n",
       "   event_type     event_target event_value app_version session_duration_sec  \\\n",
       "0  double_tap    profile_image           5       2.6.8                 3311   \n",
       "1       pinch       search_bar           6       3.3.6                 3283   \n",
       "2        zoom        menu_icon           6       5.4.5                 2870   \n",
       "3  long_press  checkout_button           9       4.7.1                  332   \n",
       "4        view  settings_button           7       2.0.8                 1694   \n",
       "\n",
       "  is_subscribed user_age           phone_number push_enabled  \n",
       "0          True       51   001-423-901-2346x818        False  \n",
       "1         False       40          (437)544-4735        False  \n",
       "2          True       73  001-815-298-0574x8189         True  \n",
       "3          True       47          (252)814-8186        False  \n",
       "4          True       32        +1-778-241-8813        False  \n",
       "\n",
       "[5 rows x 23 columns]"
      ]
     },
     "execution_count": 11,
     "metadata": {},
     "output_type": "execute_result"
    }
   ],
   "source": [
    "import pandas as pd\n",
    "import numpy as np\n",
    "import matplotlib.pyplot as plt\n",
    "import seaborn as sns\n",
    "\n",
    "df = pd.read_csv('../data/user_mobile_app_interaction_data.csv')\n",
    "\n",
    "print(df.shape)   # 看資料有多少列、多少欄\n",
    "df.head()         # 顯示前5列\n"
   ]
  },
  {
   "cell_type": "code",
   "execution_count": 19,
   "id": "d819fceb-2cf3-4265-b67d-f32b51c65a68",
   "metadata": {},
   "outputs": [
    {
     "name": "stdout",
     "output_type": "stream",
     "text": [
      "(100000, 23)\n"
     ]
    },
    {
     "data": {
      "text/html": [
       "<div>\n",
       "<style scoped>\n",
       "    .dataframe tbody tr th:only-of-type {\n",
       "        vertical-align: middle;\n",
       "    }\n",
       "\n",
       "    .dataframe tbody tr th {\n",
       "        vertical-align: top;\n",
       "    }\n",
       "\n",
       "    .dataframe thead th {\n",
       "        text-align: right;\n",
       "    }\n",
       "</style>\n",
       "<table border=\"1\" class=\"dataframe\">\n",
       "  <thead>\n",
       "    <tr style=\"text-align: right;\">\n",
       "      <th></th>\n",
       "      <th>timestamp</th>\n",
       "      <th>user_id</th>\n",
       "      <th>session_id</th>\n",
       "      <th>ip_address</th>\n",
       "      <th>device_os</th>\n",
       "      <th>device_os_version</th>\n",
       "      <th>device_model</th>\n",
       "      <th>screen_resolution</th>\n",
       "      <th>location_country</th>\n",
       "      <th>location_city</th>\n",
       "      <th>...</th>\n",
       "      <th>memory_usage_mb</th>\n",
       "      <th>event_type</th>\n",
       "      <th>event_target</th>\n",
       "      <th>event_value</th>\n",
       "      <th>app_version</th>\n",
       "      <th>session_duration_sec</th>\n",
       "      <th>is_subscribed</th>\n",
       "      <th>user_age</th>\n",
       "      <th>phone_number</th>\n",
       "      <th>push_enabled</th>\n",
       "    </tr>\n",
       "  </thead>\n",
       "  <tbody>\n",
       "    <tr>\n",
       "      <th>0</th>\n",
       "      <td>2025-01-13T23:12:43</td>\n",
       "      <td>13457</td>\n",
       "      <td>S-852694</td>\n",
       "      <td>181.246.29.95</td>\n",
       "      <td>Android</td>\n",
       "      <td>9.9</td>\n",
       "      <td>OnePlus 9</td>\n",
       "      <td>1080x1920</td>\n",
       "      <td>Senegal</td>\n",
       "      <td>South Luiston</td>\n",
       "      <td>...</td>\n",
       "      <td>3687</td>\n",
       "      <td>double_tap</td>\n",
       "      <td>profile_image</td>\n",
       "      <td>5</td>\n",
       "      <td>2.6.8</td>\n",
       "      <td>3311</td>\n",
       "      <td>True</td>\n",
       "      <td>51</td>\n",
       "      <td>001-423-901-2346x818</td>\n",
       "      <td>False</td>\n",
       "    </tr>\n",
       "    <tr>\n",
       "      <th>1</th>\n",
       "      <td>2024-12-24T22:57:29</td>\n",
       "      <td>95977</td>\n",
       "      <td>S-766538</td>\n",
       "      <td>59.155.205.42</td>\n",
       "      <td>Android</td>\n",
       "      <td>7.9</td>\n",
       "      <td>Samsung Galaxy S22</td>\n",
       "      <td>1080x1920</td>\n",
       "      <td>Greenland</td>\n",
       "      <td>Lake Brandonton</td>\n",
       "      <td>...</td>\n",
       "      <td>3521</td>\n",
       "      <td>pinch</td>\n",
       "      <td>search_bar</td>\n",
       "      <td>6</td>\n",
       "      <td>3.3.6</td>\n",
       "      <td>3283</td>\n",
       "      <td>False</td>\n",
       "      <td>40</td>\n",
       "      <td>(437)544-4735</td>\n",
       "      <td>False</td>\n",
       "    </tr>\n",
       "    <tr>\n",
       "      <th>2</th>\n",
       "      <td>2024-12-22T09:00:26</td>\n",
       "      <td>52758</td>\n",
       "      <td>S-228244</td>\n",
       "      <td>183.205.124.1</td>\n",
       "      <td>iOS</td>\n",
       "      <td>15.1</td>\n",
       "      <td>iPhone 13</td>\n",
       "      <td>1080x1920</td>\n",
       "      <td>Falkland Islands (Malvinas)</td>\n",
       "      <td>Julieside</td>\n",
       "      <td>...</td>\n",
       "      <td>639</td>\n",
       "      <td>zoom</td>\n",
       "      <td>menu_icon</td>\n",
       "      <td>6</td>\n",
       "      <td>5.4.5</td>\n",
       "      <td>2870</td>\n",
       "      <td>True</td>\n",
       "      <td>73</td>\n",
       "      <td>001-815-298-0574x8189</td>\n",
       "      <td>True</td>\n",
       "    </tr>\n",
       "    <tr>\n",
       "      <th>3</th>\n",
       "      <td>2025-01-07T02:53:07</td>\n",
       "      <td>53777</td>\n",
       "      <td>S-633216</td>\n",
       "      <td>179.124.111.38</td>\n",
       "      <td>iOS</td>\n",
       "      <td>16.1</td>\n",
       "      <td>iPhone 14 Pro</td>\n",
       "      <td>720x1280</td>\n",
       "      <td>Comoros</td>\n",
       "      <td>North Steven</td>\n",
       "      <td>...</td>\n",
       "      <td>119</td>\n",
       "      <td>long_press</td>\n",
       "      <td>checkout_button</td>\n",
       "      <td>9</td>\n",
       "      <td>4.7.1</td>\n",
       "      <td>332</td>\n",
       "      <td>True</td>\n",
       "      <td>47</td>\n",
       "      <td>(252)814-8186</td>\n",
       "      <td>False</td>\n",
       "    </tr>\n",
       "    <tr>\n",
       "      <th>4</th>\n",
       "      <td>2024-12-22T15:58:18</td>\n",
       "      <td>6302</td>\n",
       "      <td>S-508537</td>\n",
       "      <td>198.184.172.85</td>\n",
       "      <td>Android</td>\n",
       "      <td>7.6</td>\n",
       "      <td>Motorola Edge</td>\n",
       "      <td>1080x1920</td>\n",
       "      <td>Mayotte</td>\n",
       "      <td>Ernestport</td>\n",
       "      <td>...</td>\n",
       "      <td>1789</td>\n",
       "      <td>view</td>\n",
       "      <td>settings_button</td>\n",
       "      <td>7</td>\n",
       "      <td>2.0.8</td>\n",
       "      <td>1694</td>\n",
       "      <td>True</td>\n",
       "      <td>32</td>\n",
       "      <td>+1-778-241-8813</td>\n",
       "      <td>False</td>\n",
       "    </tr>\n",
       "  </tbody>\n",
       "</table>\n",
       "<p>5 rows × 23 columns</p>\n",
       "</div>"
      ],
      "text/plain": [
       "             timestamp user_id session_id      ip_address device_os  \\\n",
       "0  2025-01-13T23:12:43   13457   S-852694   181.246.29.95   Android   \n",
       "1  2024-12-24T22:57:29   95977   S-766538   59.155.205.42   Android   \n",
       "2  2024-12-22T09:00:26   52758   S-228244   183.205.124.1       iOS   \n",
       "3  2025-01-07T02:53:07   53777   S-633216  179.124.111.38       iOS   \n",
       "4  2024-12-22T15:58:18    6302   S-508537  198.184.172.85   Android   \n",
       "\n",
       "  device_os_version        device_model screen_resolution  \\\n",
       "0               9.9           OnePlus 9         1080x1920   \n",
       "1               7.9  Samsung Galaxy S22         1080x1920   \n",
       "2              15.1           iPhone 13         1080x1920   \n",
       "3              16.1       iPhone 14 Pro          720x1280   \n",
       "4               7.6       Motorola Edge         1080x1920   \n",
       "\n",
       "              location_country    location_city  ... memory_usage_mb  \\\n",
       "0                      Senegal    South Luiston  ...            3687   \n",
       "1                    Greenland  Lake Brandonton  ...            3521   \n",
       "2  Falkland Islands (Malvinas)        Julieside  ...             639   \n",
       "3                      Comoros     North Steven  ...             119   \n",
       "4                      Mayotte       Ernestport  ...            1789   \n",
       "\n",
       "   event_type     event_target event_value app_version session_duration_sec  \\\n",
       "0  double_tap    profile_image           5       2.6.8                 3311   \n",
       "1       pinch       search_bar           6       3.3.6                 3283   \n",
       "2        zoom        menu_icon           6       5.4.5                 2870   \n",
       "3  long_press  checkout_button           9       4.7.1                  332   \n",
       "4        view  settings_button           7       2.0.8                 1694   \n",
       "\n",
       "  is_subscribed user_age           phone_number push_enabled  \n",
       "0          True       51   001-423-901-2346x818        False  \n",
       "1         False       40          (437)544-4735        False  \n",
       "2          True       73  001-815-298-0574x8189         True  \n",
       "3          True       47          (252)814-8186        False  \n",
       "4          True       32        +1-778-241-8813        False  \n",
       "\n",
       "[5 rows x 23 columns]"
      ]
     },
     "execution_count": 19,
     "metadata": {},
     "output_type": "execute_result"
    }
   ],
   "source": [
    "print(df.shape)   # 看資料有多少列、多少欄\n",
    "df.head()  "
   ]
  },
  {
   "cell_type": "code",
   "execution_count": 18,
   "id": "eb222832-d13d-4c66-9a84-ca40f5bb8560",
   "metadata": {},
   "outputs": [
    {
     "name": "stdout",
     "output_type": "stream",
     "text": [
      "<class 'pandas.core.frame.DataFrame'>\n",
      "RangeIndex: 100000 entries, 0 to 99999\n",
      "Data columns (total 23 columns):\n",
      " #   Column                Non-Null Count  Dtype \n",
      "---  ------                --------------  ----- \n",
      " 0   timestamp             99694 non-null  object\n",
      " 1   user_id               99659 non-null  object\n",
      " 2   session_id            99680 non-null  object\n",
      " 3   ip_address            99683 non-null  object\n",
      " 4   device_os             99686 non-null  object\n",
      " 5   device_os_version     99626 non-null  object\n",
      " 6   device_model          99646 non-null  object\n",
      " 7   screen_resolution     99688 non-null  object\n",
      " 8   location_country      99680 non-null  object\n",
      " 9   location_city         99692 non-null  object\n",
      " 10  app_language          99672 non-null  object\n",
      " 11  network_type          99661 non-null  object\n",
      " 12  battery_level         99710 non-null  object\n",
      " 13  memory_usage_mb       99682 non-null  object\n",
      " 14  event_type            99650 non-null  object\n",
      " 15  event_target          99680 non-null  object\n",
      " 16  event_value           99683 non-null  object\n",
      " 17  app_version           99670 non-null  object\n",
      " 18  session_duration_sec  99680 non-null  object\n",
      " 19  is_subscribed         99660 non-null  object\n",
      " 20  user_age              99649 non-null  object\n",
      " 21  phone_number          99681 non-null  object\n",
      " 22  push_enabled          99662 non-null  object\n",
      "dtypes: object(23)\n",
      "memory usage: 17.5+ MB\n"
     ]
    }
   ],
   "source": [
    "df.info()"
   ]
  },
  {
   "cell_type": "code",
   "execution_count": 14,
   "id": "679ba8e9-f8f8-4105-b950-e5665480d796",
   "metadata": {},
   "outputs": [
    {
     "data": {
      "text/plain": [
       "0"
      ]
     },
     "execution_count": 14,
     "metadata": {},
     "output_type": "execute_result"
    }
   ],
   "source": [
    "df.duplicated().sum()\n"
   ]
  },
  {
   "cell_type": "code",
   "execution_count": 32,
   "id": "b292f355-0aa6-4a83-97d4-b0795b9b6470",
   "metadata": {},
   "outputs": [],
   "source": [
    "df['timestamp'] = pd.to_datetime(df['timestamp'], errors='coerce')\n",
    "df['session_duration_sec'] = pd.to_numeric(df['session_duration_sec'], errors='coerce')\n",
    "df['memory_usage_mb'] = pd.to_numeric(df['memory_usage_mb'], errors='coerce')\n",
    "df['user_age'] = pd.to_numeric(df['user_age'], errors='coerce')\n",
    "\n",
    "df['is_subscribed'] = df['is_subscribed'].isin([True, 'True', 'true', 1])  # 清理成布林\n",
    "df['push_enabled'] = df['push_enabled'].isin([True, 'True', 'true', 1])\n",
    "\n",
    "df['battery_level'] = (\n",
    "    df['battery_level']\n",
    "    .astype(str)                 \n",
    "    .str.replace('%', '', regex=False)\n",
    ")\n",
    "df['battery_level'] = pd.to_numeric(df['battery_level'], errors='coerce')"
   ]
  },
  {
   "cell_type": "code",
   "execution_count": 34,
   "id": "052f6f6e-24fd-49d5-8379-f9e78f938b19",
   "metadata": {},
   "outputs": [
    {
     "data": {
      "text/plain": [
       "timestamp               datetime64[ns]\n",
       "user_id                         object\n",
       "session_id                      object\n",
       "ip_address                      object\n",
       "device_os                       object\n",
       "device_os_version               object\n",
       "device_model                    object\n",
       "screen_resolution               object\n",
       "location_country                object\n",
       "location_city                   object\n",
       "app_language                    object\n",
       "network_type                    object\n",
       "battery_level                  float64\n",
       "memory_usage_mb                float64\n",
       "event_type                      object\n",
       "event_target                    object\n",
       "event_value                     object\n",
       "app_version                     object\n",
       "session_duration_sec           float64\n",
       "is_subscribed                     bool\n",
       "user_age                       float64\n",
       "phone_number                    object\n",
       "push_enabled                      bool\n",
       "dtype: object"
      ]
     },
     "execution_count": 34,
     "metadata": {},
     "output_type": "execute_result"
    }
   ],
   "source": [
    "# 型別是否正確\n",
    "df.dtypes"
   ]
  },
  {
   "cell_type": "code",
   "execution_count": 35,
   "id": "a89ee794-4022-4a1e-829b-dd40d38232ac",
   "metadata": {},
   "outputs": [
    {
     "data": {
      "text/html": [
       "<div>\n",
       "<style scoped>\n",
       "    .dataframe tbody tr th:only-of-type {\n",
       "        vertical-align: middle;\n",
       "    }\n",
       "\n",
       "    .dataframe tbody tr th {\n",
       "        vertical-align: top;\n",
       "    }\n",
       "\n",
       "    .dataframe thead th {\n",
       "        text-align: right;\n",
       "    }\n",
       "</style>\n",
       "<table border=\"1\" class=\"dataframe\">\n",
       "  <thead>\n",
       "    <tr style=\"text-align: right;\">\n",
       "      <th></th>\n",
       "      <th>session_duration_sec</th>\n",
       "      <th>memory_usage_mb</th>\n",
       "      <th>user_age</th>\n",
       "      <th>battery_level</th>\n",
       "    </tr>\n",
       "  </thead>\n",
       "  <tbody>\n",
       "    <tr>\n",
       "      <th>count</th>\n",
       "      <td>9.911200e+04</td>\n",
       "      <td>9.908400e+04</td>\n",
       "      <td>99025.000000</td>\n",
       "      <td>99095.000000</td>\n",
       "    </tr>\n",
       "    <tr>\n",
       "      <th>mean</th>\n",
       "      <td>2.017919e+34</td>\n",
       "      <td>2.018489e+71</td>\n",
       "      <td>46.430972</td>\n",
       "      <td>50.217438</td>\n",
       "    </tr>\n",
       "    <tr>\n",
       "      <th>std</th>\n",
       "      <td>6.352825e+36</td>\n",
       "      <td>6.353722e+73</td>\n",
       "      <td>19.605796</td>\n",
       "      <td>29.208547</td>\n",
       "    </tr>\n",
       "    <tr>\n",
       "      <th>min</th>\n",
       "      <td>4.000000e+00</td>\n",
       "      <td>3.700000e+01</td>\n",
       "      <td>0.000000</td>\n",
       "      <td>0.000000</td>\n",
       "    </tr>\n",
       "    <tr>\n",
       "      <th>25%</th>\n",
       "      <td>9.100000e+02</td>\n",
       "      <td>1.055000e+03</td>\n",
       "      <td>29.000000</td>\n",
       "      <td>25.000000</td>\n",
       "    </tr>\n",
       "    <tr>\n",
       "      <th>50%</th>\n",
       "      <td>1.805000e+03</td>\n",
       "      <td>2.075000e+03</td>\n",
       "      <td>46.000000</td>\n",
       "      <td>50.000000</td>\n",
       "    </tr>\n",
       "    <tr>\n",
       "      <th>75%</th>\n",
       "      <td>2.707000e+03</td>\n",
       "      <td>3.089000e+03</td>\n",
       "      <td>63.000000</td>\n",
       "      <td>76.000000</td>\n",
       "    </tr>\n",
       "    <tr>\n",
       "      <th>max</th>\n",
       "      <td>2.000000e+39</td>\n",
       "      <td>2.000000e+76</td>\n",
       "      <td>89.000000</td>\n",
       "      <td>100.000000</td>\n",
       "    </tr>\n",
       "  </tbody>\n",
       "</table>\n",
       "</div>"
      ],
      "text/plain": [
       "       session_duration_sec  memory_usage_mb      user_age  battery_level\n",
       "count          9.911200e+04     9.908400e+04  99025.000000   99095.000000\n",
       "mean           2.017919e+34     2.018489e+71     46.430972      50.217438\n",
       "std            6.352825e+36     6.353722e+73     19.605796      29.208547\n",
       "min            4.000000e+00     3.700000e+01      0.000000       0.000000\n",
       "25%            9.100000e+02     1.055000e+03     29.000000      25.000000\n",
       "50%            1.805000e+03     2.075000e+03     46.000000      50.000000\n",
       "75%            2.707000e+03     3.089000e+03     63.000000      76.000000\n",
       "max            2.000000e+39     2.000000e+76     89.000000     100.000000"
      ]
     },
     "execution_count": 35,
     "metadata": {},
     "output_type": "execute_result"
    }
   ],
   "source": [
    "# 看數值欄的統計範圍\n",
    "df[['session_duration_sec','memory_usage_mb','user_age','battery_level']].describe()"
   ]
  },
  {
   "cell_type": "code",
   "execution_count": 38,
   "id": "aee39552-5b29-43cc-91c8-fc0e53051e7b",
   "metadata": {},
   "outputs": [],
   "source": [
    "# 1. 清理 session_duration_sec（去除極端異常值）\n",
    "df.loc[(df['session_duration_sec'] < 0) | (df['session_duration_sec'] > 1e6), 'session_duration_sec'] = np.nan\n",
    "\n",
    "# 2. 清理 memory_usage_mb（合理範圍 100MB ~ 20000MB）\n",
    "df.loc[(df['memory_usage_mb'] < 50) | (df['memory_usage_mb'] > 20000), 'memory_usage_mb'] = np.nan\n",
    "\n",
    "# 3. 清理 user_age（合理範圍 10 ~ 100 歲）\n",
    "df.loc[(df['user_age'] < 10) | (df['user_age'] > 100), 'user_age'] = np.nan\n"
   ]
  },
  {
   "cell_type": "code",
   "execution_count": 39,
   "id": "36003fb8-05ee-4e97-ae38-ca13fca9adf7",
   "metadata": {},
   "outputs": [
    {
     "name": "stdout",
     "output_type": "stream",
     "text": [
      "session_duration_sec NaN 數量: 890\n",
      "memory_usage_mb NaN 數量: 919\n",
      "user_age NaN 數量: 982\n"
     ]
    }
   ],
   "source": [
    "# 看三個欄位的統計摘要\n",
    "df[['session_duration_sec','memory_usage_mb','user_age']].describe()\n",
    "\n",
    "# 看清掉多少筆異常值\n",
    "print(\"session_duration_sec NaN 數量:\", df['session_duration_sec'].isna().sum())\n",
    "print(\"memory_usage_mb NaN 數量:\", df['memory_usage_mb'].isna().sum())\n",
    "print(\"user_age NaN 數量:\", df['user_age'].isna().sum())\n"
   ]
  },
  {
   "cell_type": "code",
   "execution_count": 41,
   "id": "f5bac245-b9b2-43b1-9251-39d27b012784",
   "metadata": {},
   "outputs": [],
   "source": [
    "df = df.dropna(subset=['session_duration_sec','memory_usage_mb','user_age'])\n"
   ]
  },
  {
   "cell_type": "code",
   "execution_count": 42,
   "id": "791e8278-1888-400b-8e17-8cb9c6c2def5",
   "metadata": {},
   "outputs": [
    {
     "data": {
      "text/plain": [
       "is_subscribed\n",
       "False    49172\n",
       "True     48061\n",
       "Name: count, dtype: int64"
      ]
     },
     "execution_count": 42,
     "metadata": {},
     "output_type": "execute_result"
    }
   ],
   "source": [
    "# 看布林欄位是否真的只有 True/False\n",
    "df['is_subscribed'].value_counts(dropna=False)"
   ]
  },
  {
   "cell_type": "code",
   "execution_count": 43,
   "id": "a21f43ad-de8b-45f9-88f9-09fda7210690",
   "metadata": {},
   "outputs": [
    {
     "data": {
      "text/plain": [
       "push_enabled\n",
       "False    49135\n",
       "True     48098\n",
       "Name: count, dtype: int64"
      ]
     },
     "execution_count": 43,
     "metadata": {},
     "output_type": "execute_result"
    }
   ],
   "source": [
    "df['push_enabled'].value_counts(dropna=False)"
   ]
  },
  {
   "cell_type": "code",
   "execution_count": 37,
   "id": "688fbbb4-f1d1-44b0-aa63-8070bccd640c",
   "metadata": {},
   "outputs": [
    {
     "data": {
      "text/plain": [
       "(0, 0)"
      ]
     },
     "execution_count": 37,
     "metadata": {},
     "output_type": "execute_result"
    }
   ],
   "source": [
    "# 檢查電池範圍是否合理\n",
    "(df['battery_level'] < 0).sum(), (df['battery_level'] > 100).sum()"
   ]
  },
  {
   "cell_type": "code",
   "execution_count": 44,
   "id": "941e193a-c710-4e04-9caa-343f80e062d3",
   "metadata": {},
   "outputs": [
    {
     "data": {
      "text/plain": [
       "timestamp               892\n",
       "battery_level           875\n",
       "device_os_version       360\n",
       "device_model            345\n",
       "event_type              337\n",
       "user_id                 328\n",
       "network_type            327\n",
       "app_version             318\n",
       "app_language            315\n",
       "phone_number            314\n",
       "event_target            312\n",
       "event_value             311\n",
       "location_country        308\n",
       "session_id              307\n",
       "screen_resolution       306\n",
       "ip_address              306\n",
       "device_os               303\n",
       "location_city           296\n",
       "memory_usage_mb           0\n",
       "session_duration_sec      0\n",
       "is_subscribed             0\n",
       "user_age                  0\n",
       "push_enabled              0\n",
       "dtype: int64"
      ]
     },
     "execution_count": 44,
     "metadata": {},
     "output_type": "execute_result"
    }
   ],
   "source": [
    "df.isnull().sum().sort_values(ascending=False)"
   ]
  },
  {
   "cell_type": "code",
   "execution_count": 45,
   "id": "696c5d79-2b74-4ca3-90b8-e1bc3f126c2a",
   "metadata": {},
   "outputs": [],
   "source": [
    "import numpy as np\n",
    "\n",
    "# 定義一些常見的「假缺失」標記\n",
    "fake_missing = ['', ' ', 'NA', 'N/A', 'na', 'null', 'NULL', 'None', 'none', 'missing', '?']\n",
    "\n",
    "# 逐欄檢查\n",
    "for col in df.columns:\n",
    "    counts = df[col].isin(fake_missing).sum() if df[col].dtype == 'object' else 0\n",
    "    if counts > 0:\n",
    "        print(f\"{col}: {counts} fake-missing values found\")\n"
   ]
  },
  {
   "cell_type": "code",
   "execution_count": 46,
   "id": "27e96c2f-aacf-4fb6-a770-e5ccfcac9fe6",
   "metadata": {},
   "outputs": [],
   "source": [
    "df.replace(fake_missing, np.nan, inplace=True)\n"
   ]
  },
  {
   "cell_type": "code",
   "execution_count": 47,
   "id": "d6d60d7c-cc1c-43a1-9b87-a8369a87135a",
   "metadata": {},
   "outputs": [
    {
     "data": {
      "text/plain": [
       "timestamp               892\n",
       "battery_level           875\n",
       "device_os_version       360\n",
       "device_model            345\n",
       "event_type              337\n",
       "user_id                 328\n",
       "network_type            327\n",
       "app_version             318\n",
       "app_language            315\n",
       "phone_number            314\n",
       "event_target            312\n",
       "event_value             311\n",
       "location_country        308\n",
       "session_id              307\n",
       "screen_resolution       306\n",
       "ip_address              306\n",
       "device_os               303\n",
       "location_city           296\n",
       "memory_usage_mb           0\n",
       "session_duration_sec      0\n",
       "is_subscribed             0\n",
       "user_age                  0\n",
       "push_enabled              0\n",
       "dtype: int64"
      ]
     },
     "execution_count": 47,
     "metadata": {},
     "output_type": "execute_result"
    }
   ],
   "source": [
    "df.isnull().sum().sort_values(ascending=False)"
   ]
  },
  {
   "cell_type": "code",
   "execution_count": 48,
   "id": "e6e63c19-fc7e-4699-adae-1d854c8ed62a",
   "metadata": {},
   "outputs": [],
   "source": [
    "df = df.dropna(subset=['timestamp'])\n"
   ]
  },
  {
   "cell_type": "code",
   "execution_count": 51,
   "id": "73bea444-06ef-4c4f-910f-8edc387aa441",
   "metadata": {},
   "outputs": [],
   "source": [
    "df['battery_level'] = df['battery_level'].fillna(df['battery_level'].median())"
   ]
  },
  {
   "cell_type": "code",
   "execution_count": 54,
   "id": "90f8ace2-0399-4ee4-ad69-c5ea3da1f3e0",
   "metadata": {},
   "outputs": [],
   "source": [
    "cat_cols = ['device_os_version','device_model','event_type','user_id','network_type',\n",
    "            'app_version','app_language','phone_number','event_target','event_value',\n",
    "            'location_country','session_id','screen_resolution','ip_address',\n",
    "            'device_os','location_city']\n",
    "for c in cat_cols:\n",
    "    df[c] = df[c].fillna(\"Unknown\")"
   ]
  },
  {
   "cell_type": "code",
   "execution_count": 55,
   "id": "5b963f72-e764-43a5-9cf1-3cd989f747f4",
   "metadata": {},
   "outputs": [
    {
     "data": {
      "text/plain": [
       "timestamp               0\n",
       "battery_level           0\n",
       "phone_number            0\n",
       "user_age                0\n",
       "is_subscribed           0\n",
       "session_duration_sec    0\n",
       "app_version             0\n",
       "event_value             0\n",
       "event_target            0\n",
       "event_type              0\n",
       "memory_usage_mb         0\n",
       "network_type            0\n",
       "user_id                 0\n",
       "app_language            0\n",
       "location_city           0\n",
       "location_country        0\n",
       "screen_resolution       0\n",
       "device_model            0\n",
       "device_os_version       0\n",
       "device_os               0\n",
       "ip_address              0\n",
       "session_id              0\n",
       "push_enabled            0\n",
       "dtype: int64"
      ]
     },
     "execution_count": 55,
     "metadata": {},
     "output_type": "execute_result"
    }
   ],
   "source": [
    "df.isnull().sum().sort_values(ascending=False)"
   ]
  },
  {
   "cell_type": "code",
   "execution_count": 56,
   "id": "51e6c71f-f793-4b2c-ae5b-d5016f2afe78",
   "metadata": {},
   "outputs": [
    {
     "name": "stdout",
     "output_type": "stream",
     "text": [
      "✅ 清理後的資料已存到 ../data/processed_app_interactions.csv\n"
     ]
    }
   ],
   "source": [
    "# 把清理後的 DataFrame 輸出成 CSV\n",
    "df.to_csv('../data/processed_app_interactions.csv', index=False)\n",
    "\n",
    "print(\"✅ 清理後的資料已存到 ../data/processed_app_interactions.csv\")\n"
   ]
  },
  {
   "cell_type": "code",
   "execution_count": null,
   "id": "1aa6c92c-94ae-4a0e-9386-68b0b4591163",
   "metadata": {},
   "outputs": [],
   "source": []
  }
 ],
 "metadata": {
  "kernelspec": {
   "display_name": "Python 3 (ipykernel)",
   "language": "python",
   "name": "python3"
  },
  "language_info": {
   "codemirror_mode": {
    "name": "ipython",
    "version": 3
   },
   "file_extension": ".py",
   "mimetype": "text/x-python",
   "name": "python",
   "nbconvert_exporter": "python",
   "pygments_lexer": "ipython3",
   "version": "3.11.9"
  }
 },
 "nbformat": 4,
 "nbformat_minor": 5
}
