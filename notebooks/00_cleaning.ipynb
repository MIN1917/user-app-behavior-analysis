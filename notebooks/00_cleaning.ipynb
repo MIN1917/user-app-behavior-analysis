{
 "cells": [
  {
   "cell_type": "code",
   "execution_count": 23,
   "id": "4ca15cbd-951e-4f30-98d9-7df34182fa3d",
   "metadata": {},
   "outputs": [
    {
     "name": "stdout",
     "output_type": "stream",
     "text": [
      "✅ 已載入清理後資料: (96341, 23)\n"
     ]
    }
   ],
   "source": [
    "import pandas as pd, numpy as np\n",
    "import matplotlib.pyplot as plt\n",
    "\n",
    "# 讀清理後的資料\n",
    "df = pd.read_csv('../data/processed_app_interactions.csv', parse_dates=['timestamp'])\n",
    "print(\"✅ 已載入清理後資料:\", df.shape)\n"
   ]
  },
  {
   "cell_type": "code",
   "execution_count": null,
   "id": "7a1e175f-6f28-4e43-8764-c09053b7fd7c",
   "metadata": {},
   "outputs": [],
   "source": []
  }
 ],
 "metadata": {
  "kernelspec": {
   "display_name": "Python 3 (ipykernel)",
   "language": "python",
   "name": "python3"
  },
  "language_info": {
   "codemirror_mode": {
    "name": "ipython",
    "version": 3
   },
   "file_extension": ".py",
   "mimetype": "text/x-python",
   "name": "python",
   "nbconvert_exporter": "python",
   "pygments_lexer": "ipython3",
   "version": "3.11.9"
  }
 },
 "nbformat": 4,
 "nbformat_minor": 5
}
